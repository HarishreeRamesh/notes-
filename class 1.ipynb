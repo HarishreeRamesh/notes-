{
 "cells": [
  {
   "cell_type": "code",
   "execution_count": 1,
   "id": "11ca7bdf",
   "metadata": {},
   "outputs": [
    {
     "name": "stdout",
     "output_type": "stream",
     "text": [
      "hello\n"
     ]
    }
   ],
   "source": [
    "print(\"hello\")"
   ]
  },
  {
   "cell_type": "code",
   "execution_count": 3,
   "id": "c330c53c",
   "metadata": {},
   "outputs": [
    {
     "name": "stdout",
     "output_type": "stream",
     "text": [
      "welcome\n"
     ]
    }
   ],
   "source": [
    "print(\"welcome\")"
   ]
  },
  {
   "cell_type": "code",
   "execution_count": 2,
   "id": "bf88eb2d",
   "metadata": {},
   "outputs": [
    {
     "name": "stdout",
     "output_type": "stream",
     "text": [
      "hi\n"
     ]
    }
   ],
   "source": [
    "print(\"hi\")"
   ]
  },
  {
   "cell_type": "code",
   "execution_count": null,
   "id": "df57ec18",
   "metadata": {},
   "outputs": [],
   "source": [
    "print(\"hi\\nhello\\nwelcome\")"
   ]
  },
  {
   "cell_type": "code",
   "execution_count": null,
   "id": "17743704",
   "metadata": {},
   "outputs": [],
   "source": [
    "print(\"hi\\thello\\twelcome\")"
   ]
  },
  {
   "cell_type": "code",
   "execution_count": null,
   "id": "dea5b2c2",
   "metadata": {},
   "outputs": [],
   "source": [
    "print(\"hi\")"
   ]
  },
  {
   "cell_type": "code",
   "execution_count": null,
   "id": "3df10cd2",
   "metadata": {},
   "outputs": [],
   "source": [
    "print(\"harishree\")"
   ]
  },
  {
   "cell_type": "code",
   "execution_count": null,
   "id": "6b497942",
   "metadata": {},
   "outputs": [],
   "source": [
    "print(\"welcome\")"
   ]
  },
  {
   "cell_type": "code",
   "execution_count": 1,
   "id": "a005e41d",
   "metadata": {},
   "outputs": [
    {
     "name": "stdout",
     "output_type": "stream",
     "text": [
      "harishree hi\n"
     ]
    }
   ],
   "source": [
    "a= \"harishree hi\"\n",
    "print(a)"
   ]
  },
  {
   "cell_type": "code",
   "execution_count": 4,
   "id": "339f7966",
   "metadata": {},
   "outputs": [
    {
     "name": "stdout",
     "output_type": "stream",
     "text": [
      "16\n",
      " \n",
      "s\n",
      "[' ', 'H', 'R', 'a', 'a', 'e', 'e', 'e', 'h', 'h', 'i', 'm', 'r', 'r', 's', 's']\n",
      "False\n",
      "False\n",
      "False\n",
      "False\n",
      "False\n",
      "HARISHREE RAMESH\n",
      "harishree ramesh\n",
      "hARISHREE rAMESH\n"
     ]
    }
   ],
   "source": [
    "a= \"Harishree Ramesh\"\n",
    "\n",
    "print(len(a))\n",
    "print(min(a))\n",
    "print(max(a))\n",
    "print(sorted(a))\n",
    "\n",
    "print(a.isalpha())\n",
    "print(a.isalnum())\n",
    "print(a.isdigit())\n",
    "print(a.isupper())\n",
    "print(a.islower())\n",
    "\n",
    "\n",
    "print(a.upper())\n",
    "print(a.lower())\n",
    "print(a.swapcase())\n"
   ]
  },
  {
   "cell_type": "code",
   "execution_count": 1,
   "id": "96579a78",
   "metadata": {},
   "outputs": [
    {
     "name": "stdout",
     "output_type": "stream",
     "text": [
      "3\n",
      "1\n",
      "6\n",
      "6\n",
      "3\n",
      "3\n",
      "-1\n"
     ]
    }
   ],
   "source": [
    "a=\"Rupa ramesh\"\n",
    "print(a.index(\"a\"))\n",
    "print(a.index(\"u\"))\n",
    "print(a.index(\"a\",4,))\n",
    "\n",
    "print(a.rindex(\"a\"))\n",
    "\n",
    "print(a.index(\"a\"))\n",
    "print(a.find(\"a\"))\n",
    "print(a.find(\"d\"))\n"
   ]
  },
  {
   "cell_type": "code",
   "execution_count": 5,
   "id": "2d7846db",
   "metadata": {},
   "outputs": [
    {
     "name": "stdout",
     "output_type": "stream",
     "text": [
      "True\n",
      "True\n",
      "['h', 'rishreer', 'mesh']\n",
      "['harishreeramesh']\n",
      "rarisrreeramesr\n",
      "$aris$reerames$\n",
      "3\n",
      "harishree\n",
      "harishree\n",
      "harishree\n"
     ]
    }
   ],
   "source": [
    "a=\"harishreeramesh\"\n",
    "print(a.startswith(\"h\"))\n",
    "print(a.endswith(\"h\"))\n",
    "\n",
    "print(a.split(\"a\"))\n",
    "print(a.split(\"a,1\"))\n",
    "\n",
    "print(a.replace(\"h\",\"r\"))\n",
    "print(a.replace(\"h\",\"$\"))\n",
    "\n",
    "print(a.count(\"e\"))\n",
    "\n",
    "a=\"harishree\"\n",
    "print(a.strip())\n",
    "print(a.lstrip())\n",
    "print(a.rstrip())\n"
   ]
  },
  {
   "cell_type": "code",
   "execution_count": null,
   "id": "f43b31cd",
   "metadata": {},
   "outputs": [],
   "source": [
    "a =\"Harishreeramesh\"\n",
    "\n",
    "# star end interval \n",
    "print(a[3])\n",
    "\n",
    "print(a[3:10])\n",
    "print(a[:])\n",
    "print(a[::1])\n",
    "print(a[::2])\n",
    "print(a[::3])\n",
    "print(a[-1])\n",
    "print(a[::-1])"
   ]
  },
  {
   "cell_type": "code",
   "execution_count": 6,
   "id": "54d2d14d",
   "metadata": {},
   "outputs": [
    {
     "name": "stdout",
     "output_type": "stream",
     "text": [
      "<class 'str'>\n",
      "True\n",
      "<class 'str'>\n",
      "<class 'str'>\n",
      "123 <class 'int'>\n",
      "<class 'float'>\n"
     ]
    }
   ],
   "source": [
    "a=\"harishreeramesh\"\n",
    "\n",
    "print(type(a))\n",
    "print(isinstance(a,str))\n",
    "b=\"123\"\n",
    "c=\"123\"\n",
    "print(type(b))\n",
    "print(type(c))\n",
    "d= int(b)\n",
    "print(d,type(d))\n",
    "a=123.0\n",
    "print(type(a))"
   ]
  },
  {
   "cell_type": "code",
   "execution_count": 8,
   "id": "edf82f7c",
   "metadata": {},
   "outputs": [
    {
     "name": "stdout",
     "output_type": "stream",
     "text": [
      "[' ', 'H', 'a', 'a', 'e', 'e', 'e', 'h', 'h', 'i', 'm', 'r', 'r', 'r', 's', 's']\n"
     ]
    }
   ],
   "source": [
    "a=\"Harishree ramesh\"\n",
    "print(sorted(a))"
   ]
  },
  {
   "cell_type": "code",
   "execution_count": 7,
   "id": "cdfdd551",
   "metadata": {},
   "outputs": [
    {
     "name": "stdout",
     "output_type": "stream",
     "text": [
      "9\n",
      "['A', 'E', 'E', 'H', 'H', 'I', 'R', 'R', 'S']\n"
     ]
    }
   ],
   "source": [
    "a= \"HARISHREE\"\n",
    "print(len(a))\n",
    "print(sorted(a))"
   ]
  },
  {
   "cell_type": "code",
   "execution_count": null,
   "id": "ec9ae237",
   "metadata": {},
   "outputs": [],
   "source": []
  },
  {
   "cell_type": "code",
   "execution_count": null,
   "id": "cc56a6cf",
   "metadata": {},
   "outputs": [],
   "source": []
  },
  {
   "cell_type": "code",
   "execution_count": null,
   "id": "4a2aa7cf",
   "metadata": {},
   "outputs": [],
   "source": []
  },
  {
   "cell_type": "code",
   "execution_count": null,
   "id": "0a8e950a",
   "metadata": {},
   "outputs": [],
   "source": []
  }
 ],
 "metadata": {
  "kernelspec": {
   "display_name": "Python 3 (ipykernel)",
   "language": "python",
   "name": "python3"
  },
  "language_info": {
   "codemirror_mode": {
    "name": "ipython",
    "version": 3
   },
   "file_extension": ".py",
   "mimetype": "text/x-python",
   "name": "python",
   "nbconvert_exporter": "python",
   "pygments_lexer": "ipython3",
   "version": "3.10.9"
  }
 },
 "nbformat": 4,
 "nbformat_minor": 5
}
