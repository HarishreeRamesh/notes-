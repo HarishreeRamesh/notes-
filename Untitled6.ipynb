{
 "cells": [
  {
   "cell_type": "code",
   "execution_count": 1,
   "id": "b5759d93",
   "metadata": {},
   "outputs": [],
   "source": [
    "class parent():\n",
    "    \n",
    "    def __init__(self):\n",
    "        self.name = \"parent\""
   ]
  },
  {
   "cell_type": "code",
   "execution_count": 2,
   "id": "8da217d8",
   "metadata": {},
   "outputs": [],
   "source": [
    "class child(parent):\n",
    "    def test(self):\n",
    "        print(\"test\")\n"
   ]
  },
  {
   "cell_type": "code",
   "execution_count": 3,
   "id": "3c174705",
   "metadata": {},
   "outputs": [
    {
     "data": {
      "text/plain": [
       "'parent'"
      ]
     },
     "execution_count": 3,
     "metadata": {},
     "output_type": "execute_result"
    }
   ],
   "source": [
    "a = child()\n",
    "a.name"
   ]
  },
  {
   "cell_type": "code",
   "execution_count": 4,
   "id": "2ac9e4a5",
   "metadata": {},
   "outputs": [],
   "source": [
    "class parent():\n",
    "    \n",
    "    def __init__(self):\n",
    "        self.name = \"parent\"\n",
    "\n",
    "class child(parent):\n",
    "    def __init__(self):\n",
    "        self.child = \"child\"\n",
    "    def test(self):\n",
    "        print(\"test\")\n"
   ]
  },
  {
   "cell_type": "code",
   "execution_count": 5,
   "id": "7861937f",
   "metadata": {},
   "outputs": [
    {
     "name": "stdout",
     "output_type": "stream",
     "text": [
      "child\n"
     ]
    }
   ],
   "source": [
    "a = child()\n",
    "print(a.child)\n"
   ]
  },
  {
   "cell_type": "code",
   "execution_count": 6,
   "id": "933b1284",
   "metadata": {},
   "outputs": [
    {
     "ename": "AttributeError",
     "evalue": "'child' object has no attribute 'name'",
     "output_type": "error",
     "traceback": [
      "\u001b[1;31m---------------------------------------------------------------------------\u001b[0m",
      "\u001b[1;31mAttributeError\u001b[0m                            Traceback (most recent call last)",
      "Cell \u001b[1;32mIn[6], line 1\u001b[0m\n\u001b[1;32m----> 1\u001b[0m \u001b[38;5;28mprint\u001b[39m(\u001b[43ma\u001b[49m\u001b[38;5;241;43m.\u001b[39;49m\u001b[43mname\u001b[49m)\n",
      "\u001b[1;31mAttributeError\u001b[0m: 'child' object has no attribute 'name'"
     ]
    }
   ],
   "source": [
    "print(a.name)"
   ]
  },
  {
   "cell_type": "code",
   "execution_count": 7,
   "id": "62021a28",
   "metadata": {},
   "outputs": [],
   "source": [
    "class parent():\n",
    "    \n",
    "    def __init__(self):\n",
    "        self.name = \"parent\"\n",
    "\n",
    "class child(parent):\n",
    "    def __init__(self):\n",
    "        super().__init__()\n",
    "        self.child = \"child\"\n",
    "    def test(self):\n",
    "        print(\"test\")\n"
   ]
  },
  {
   "cell_type": "code",
   "execution_count": 8,
   "id": "c17601bb",
   "metadata": {},
   "outputs": [
    {
     "name": "stdout",
     "output_type": "stream",
     "text": [
      "parent\n",
      "child\n"
     ]
    }
   ],
   "source": [
    "a = child()\n",
    "print(a.name)\n",
    "print(a.child)"
   ]
  },
  {
   "cell_type": "code",
   "execution_count": 10,
   "id": "751ae65b",
   "metadata": {},
   "outputs": [],
   "source": [
    "class parent():\n",
    "    \n",
    "    def __init__(self):\n",
    "        self.name = \"parent\"\n",
    "\n",
    "class child(parent):\n",
    "    def __init__(self):\n",
    "        super().__init__()\n",
    "        self.child = \"child\"\n",
    "    def test(self):\n",
    "        print(\"test\")\n",
    "class grandchild(child):\n",
    "    def __init__(self):\n",
    "        super().__init__()\n",
    "        self.gchild = \"gchild\"\n",
    "        "
   ]
  },
  {
   "cell_type": "code",
   "execution_count": 11,
   "id": "f9ea59a6",
   "metadata": {},
   "outputs": [
    {
     "name": "stdout",
     "output_type": "stream",
     "text": [
      "gchild\n",
      "child\n",
      "parent\n"
     ]
    }
   ],
   "source": [
    "\n",
    "a = grandchild()\n",
    "print(a.gchild)\n",
    "print(a.child)\n",
    "print(a.name)\n"
   ]
  },
  {
   "cell_type": "code",
   "execution_count": 12,
   "id": "68beff5a",
   "metadata": {},
   "outputs": [],
   "source": [
    "#multiple\n",
    "\n",
    "class parent():\n",
    "    \n",
    "    def __init__(self):\n",
    "        self.name = \"parent\"\n",
    "\n",
    "class child():\n",
    "    def __init__(self):\n",
    "        #super().__init__()\n",
    "        self.child = \"child\"\n",
    "    def test(self):\n",
    "        print(\"test\")\n",
    "        \n",
    "class grandchild(parent,child):\n",
    "    def __init__(self):\n",
    "        super().__init__()\n",
    "        super(parent,self).__init__()\n",
    "        self.gchild = \"gchild\"\n",
    "        \n"
   ]
  },
  {
   "cell_type": "code",
   "execution_count": 13,
   "id": "df5c98e0",
   "metadata": {},
   "outputs": [
    {
     "name": "stdout",
     "output_type": "stream",
     "text": [
      "gchild\n",
      "child\n",
      "parent\n"
     ]
    }
   ],
   "source": [
    "a = grandchild()\n",
    "print(a.gchild)\n",
    "print(a.child)\n",
    "print(a.name)\n",
    "\n"
   ]
  },
  {
   "cell_type": "code",
   "execution_count": 14,
   "id": "4ee36f88",
   "metadata": {},
   "outputs": [],
   "source": [
    "## abstraction\n",
    "\n",
    "from abc import ABC , abstractmethod\n"
   ]
  },
  {
   "cell_type": "code",
   "execution_count": 15,
   "id": "39c31a00",
   "metadata": {},
   "outputs": [],
   "source": [
    "get_ipython().run_line_magic('pinfo2', 'ABC')\n"
   ]
  },
  {
   "cell_type": "code",
   "execution_count": 16,
   "id": "4cea6705",
   "metadata": {},
   "outputs": [],
   "source": [
    "class cricket(ABC):\n",
    "    \n",
    "    @abstractmethod\n",
    "    def bat(self):\n",
    "        pass\n",
    "    @abstractmethod\n",
    "    def ball(self):\n",
    "        pass"
   ]
  },
  {
   "cell_type": "code",
   "execution_count": 23,
   "id": "5f2d60ae",
   "metadata": {},
   "outputs": [],
   "source": [
    "class play(cricket):\n",
    "    \n",
    "    def bat(self):\n",
    "        print(\"bat\")\n",
    "    def ball(self):\n",
    "        print(\"ball\")\n",
    "    def stump(self):\n",
    "        print(\"stump\")"
   ]
  },
  {
   "cell_type": "code",
   "execution_count": 24,
   "id": "eff1ae95",
   "metadata": {},
   "outputs": [],
   "source": [
    "\n",
    "a = play()"
   ]
  },
  {
   "cell_type": "code",
   "execution_count": null,
   "id": "fa1366e5",
   "metadata": {},
   "outputs": [],
   "source": []
  },
  {
   "cell_type": "code",
   "execution_count": null,
   "id": "4b525140",
   "metadata": {},
   "outputs": [],
   "source": []
  },
  {
   "cell_type": "code",
   "execution_count": null,
   "id": "38215b99",
   "metadata": {},
   "outputs": [],
   "source": []
  },
  {
   "cell_type": "code",
   "execution_count": null,
   "id": "0cea3c64",
   "metadata": {},
   "outputs": [],
   "source": []
  }
 ],
 "metadata": {
  "kernelspec": {
   "display_name": "Python 3 (ipykernel)",
   "language": "python",
   "name": "python3"
  },
  "language_info": {
   "codemirror_mode": {
    "name": "ipython",
    "version": 3
   },
   "file_extension": ".py",
   "mimetype": "text/x-python",
   "name": "python",
   "nbconvert_exporter": "python",
   "pygments_lexer": "ipython3",
   "version": "3.10.9"
  }
 },
 "nbformat": 4,
 "nbformat_minor": 5
}
