{
 "cells": [
  {
   "cell_type": "code",
   "execution_count": 10,
   "id": "afca788c",
   "metadata": {},
   "outputs": [
    {
     "name": "stdout",
     "output_type": "stream",
     "text": [
      "apple 2\n",
      "apple 2\n",
      "mango 3\n",
      "mango 3\n",
      "mango 3\n",
      "berry 4\n",
      "berry 4\n",
      "berry 4\n",
      "berry 4\n",
      "{'apple': 2, 'mango': 3, 'berry': 4}\n"
     ]
    }
   ],
   "source": [
    "#work 1\n",
    "\n",
    "d = {}\n",
    "fruits = (\"apple\",\"apple\",\"mango\",\"mango\",\"mango\",\"berry\",\"berry\",\"berry\",\"berry\")\n",
    "for x in fruits:\n",
    "    print(x,fruits.count(x)) #used for count \n",
    "    d[x] = fruits.count(x)\n",
    "print(d)\n",
    "\n"
   ]
  },
  {
   "cell_type": "code",
   "execution_count": null,
   "id": "783b6476",
   "metadata": {},
   "outputs": [],
   "source": [
    "#work 2\n",
    "a=(\"apple\",\"apple\",\"apple\",\"apple\",\"mango\",\"mango\",\"mango\",\"berry\",\"berry\",\"berry\",\"berry\")\n"
   ]
  },
  {
   "cell_type": "code",
   "execution_count": null,
   "id": "7d634175",
   "metadata": {},
   "outputs": [],
   "source": [
    "\n",
    "\n",
    "        \n"
   ]
  },
  {
   "cell_type": "code",
   "execution_count": null,
   "id": "19a19cf9",
   "metadata": {},
   "outputs": [],
   "source": []
  },
  {
   "cell_type": "code",
   "execution_count": null,
   "id": "21a3eb91",
   "metadata": {},
   "outputs": [],
   "source": []
  },
  {
   "cell_type": "code",
   "execution_count": null,
   "id": "b0ddad40",
   "metadata": {},
   "outputs": [],
   "source": []
  },
  {
   "cell_type": "code",
   "execution_count": null,
   "id": "f59df3ba",
   "metadata": {},
   "outputs": [],
   "source": []
  },
  {
   "cell_type": "code",
   "execution_count": null,
   "id": "d6aea369",
   "metadata": {},
   "outputs": [],
   "source": []
  },
  {
   "cell_type": "code",
   "execution_count": null,
   "id": "15a09ef8",
   "metadata": {},
   "outputs": [],
   "source": []
  },
  {
   "cell_type": "code",
   "execution_count": null,
   "id": "b96bbef5",
   "metadata": {},
   "outputs": [],
   "source": []
  },
  {
   "cell_type": "code",
   "execution_count": null,
   "id": "8274296b",
   "metadata": {},
   "outputs": [],
   "source": []
  }
 ],
 "metadata": {
  "kernelspec": {
   "display_name": "Python 3 (ipykernel)",
   "language": "python",
   "name": "python3"
  },
  "language_info": {
   "codemirror_mode": {
    "name": "ipython",
    "version": 3
   },
   "file_extension": ".py",
   "mimetype": "text/x-python",
   "name": "python",
   "nbconvert_exporter": "python",
   "pygments_lexer": "ipython3",
   "version": "3.10.9"
  }
 },
 "nbformat": 4,
 "nbformat_minor": 5
}
