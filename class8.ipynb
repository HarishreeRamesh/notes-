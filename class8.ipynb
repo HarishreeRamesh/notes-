{
 "cells": [
  {
   "cell_type": "code",
   "execution_count": 1,
   "id": "84c1f1f1",
   "metadata": {},
   "outputs": [
    {
     "name": "stdout",
     "output_type": "stream",
     "text": [
      "fname is harishree\n",
      "mname is ramesh\n",
      "lname is gajanderan\n"
     ]
    }
   ],
   "source": [
    "#non default\n",
    "\n",
    "def name(fname, mname , lname):\n",
    "    print(\"fname is\" , fname)\n",
    "    print(\"mname is\" , mname)\n",
    "    print(\"lname is\" , lname)\n",
    "    \n",
    "    \n",
    "name(\"harishree\",\"ramesh\",\"gajanderan\")"
   ]
  },
  {
   "cell_type": "code",
   "execution_count": 2,
   "id": "b969f016",
   "metadata": {},
   "outputs": [
    {
     "name": "stdout",
     "output_type": "stream",
     "text": [
      "fname is harishree\n",
      "mname is ramesh\n",
      "lname is gajenderan\n"
     ]
    }
   ],
   "source": [
    "#pos\n",
    "\n",
    "name(lname =\"gajenderan\", fname= \"harishree\" , mname = \"ramesh\")"
   ]
  },
  {
   "cell_type": "code",
   "execution_count": 5,
   "id": "68f50218",
   "metadata": {},
   "outputs": [
    {
     "name": "stdout",
     "output_type": "stream",
     "text": [
      "fname is harishree\n",
      "mname is None\n",
      "lname is None\n"
     ]
    }
   ],
   "source": [
    "#def\n",
    "\n",
    "def name(fname = None, mname =None , lname =None):\n",
    "    print(\"fname is\" , fname)\n",
    "    print(\"mname is\" , mname)\n",
    "    print(\"lname is\" , lname)\n",
    "name(\"harishree\")"
   ]
  },
  {
   "cell_type": "code",
   "execution_count": 6,
   "id": "2b256b1e",
   "metadata": {},
   "outputs": [
    {
     "name": "stdout",
     "output_type": "stream",
     "text": [
      "fname is harishree\n",
      "mname is ramesh\n",
      "lname is hjjh\n"
     ]
    }
   ],
   "source": [
    "def name(fname, mname , lname):\n",
    "    print(\"fname is\" , fname)\n",
    "    print(\"mname is\" , mname)\n",
    "    print(\"lname is\" , lname)\n",
    "    \n",
    "    \n",
    "name(\"harishree\",\"ramesh\", lname =\"hjjh\")\n",
    "    "
   ]
  },
  {
   "cell_type": "code",
   "execution_count": 10,
   "id": "c9baef5f",
   "metadata": {},
   "outputs": [],
   "source": [
    "def test(*args):\n",
    "    print(args)\n",
    "    one = args[0]\n",
    "    print(one)"
   ]
  },
  {
   "cell_type": "code",
   "execution_count": 12,
   "id": "6769a26b",
   "metadata": {},
   "outputs": [
    {
     "name": "stdout",
     "output_type": "stream",
     "text": [
      "('name', 1, 2, 3, 4, 5)\n",
      "name\n"
     ]
    }
   ],
   "source": [
    "test(\"name\", 1,2,3,4,5)"
   ]
  },
  {
   "cell_type": "code",
   "execution_count": 24,
   "id": "7348c0ee",
   "metadata": {},
   "outputs": [],
   "source": [
    "def test(*kwargs):\n",
    "    print(kwargs)\n",
    "    name = kwargs.get(\"name\",\"try\")\n",
    "    print(kwargs)\n",
    "    name(add = \"harishree\", ags = \"ggg\", loc = \"chennai\")\n",
    "    print(name)"
   ]
  },
  {
   "cell_type": "code",
   "execution_count": 26,
   "id": "492fd3b1",
   "metadata": {},
   "outputs": [
    {
     "name": "stdout",
     "output_type": "stream",
     "text": [
      "123 <class 'str'>\n",
      "123 <class 'int'>\n"
     ]
    }
   ],
   "source": [
    "def test(a: int , b:str)->str:\n",
    "    print(a,type(a))\n",
    "    print(b,type(b))\n",
    "    b= 123\n",
    "    return b\n",
    "b= test(\"123\",123)"
   ]
  },
  {
   "cell_type": "code",
   "execution_count": 27,
   "id": "65b72c35",
   "metadata": {},
   "outputs": [
    {
     "name": "stdout",
     "output_type": "stream",
     "text": [
      "123\n"
     ]
    }
   ],
   "source": [
    "print(b)"
   ]
  },
  {
   "cell_type": "code",
   "execution_count": 28,
   "id": "507eb492",
   "metadata": {},
   "outputs": [
    {
     "name": "stdout",
     "output_type": "stream",
     "text": [
      "<class 'int'>\n"
     ]
    }
   ],
   "source": [
    "print(type(b))"
   ]
  },
  {
   "cell_type": "code",
   "execution_count": null,
   "id": "4a010572",
   "metadata": {},
   "outputs": [],
   "source": []
  },
  {
   "cell_type": "code",
   "execution_count": null,
   "id": "a0e91bc3",
   "metadata": {},
   "outputs": [],
   "source": []
  },
  {
   "cell_type": "code",
   "execution_count": null,
   "id": "3b26ccf4",
   "metadata": {},
   "outputs": [],
   "source": []
  },
  {
   "cell_type": "code",
   "execution_count": null,
   "id": "ae94ed15",
   "metadata": {},
   "outputs": [],
   "source": []
  },
  {
   "cell_type": "code",
   "execution_count": null,
   "id": "fdd5ff65",
   "metadata": {},
   "outputs": [],
   "source": []
  },
  {
   "cell_type": "code",
   "execution_count": null,
   "id": "3cac3718",
   "metadata": {},
   "outputs": [],
   "source": []
  },
  {
   "cell_type": "code",
   "execution_count": null,
   "id": "883f1246",
   "metadata": {},
   "outputs": [],
   "source": []
  },
  {
   "cell_type": "code",
   "execution_count": null,
   "id": "0749b708",
   "metadata": {},
   "outputs": [],
   "source": []
  },
  {
   "cell_type": "code",
   "execution_count": null,
   "id": "91a7959d",
   "metadata": {},
   "outputs": [],
   "source": []
  },
  {
   "cell_type": "code",
   "execution_count": null,
   "id": "9e8817df",
   "metadata": {},
   "outputs": [],
   "source": []
  }
 ],
 "metadata": {
  "kernelspec": {
   "display_name": "Python 3 (ipykernel)",
   "language": "python",
   "name": "python3"
  },
  "language_info": {
   "codemirror_mode": {
    "name": "ipython",
    "version": 3
   },
   "file_extension": ".py",
   "mimetype": "text/x-python",
   "name": "python",
   "nbconvert_exporter": "python",
   "pygments_lexer": "ipython3",
   "version": "3.10.9"
  }
 },
 "nbformat": 4,
 "nbformat_minor": 5
}
