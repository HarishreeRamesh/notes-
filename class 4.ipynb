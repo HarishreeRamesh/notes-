{
 "cells": [
  {
   "cell_type": "code",
   "execution_count": null,
   "id": "b068872c",
   "metadata": {},
   "outputs": [],
   "source": [
    "name = \"Harishree\"\n",
    "if name == \"harishree\":\n",
    "    print(\"yes\")"
   ]
  },
  {
   "cell_type": "code",
   "execution_count": null,
   "id": "b18b5914",
   "metadata": {},
   "outputs": [],
   "source": [
    "name =\"harishree\"\n",
    "if name ==\"abhi\":\n",
    "    print(\"yes\")\n",
    "else :\n",
    "     print(\"no\")"
   ]
  },
  {
   "cell_type": "code",
   "execution_count": null,
   "id": "c75a05a7",
   "metadata": {},
   "outputs": [],
   "source": [
    "name=input(\"entre name\")\n",
    "if name ==\"renisha\":\n",
    "    print(\"yes\")\n",
    "else :\n",
    "    print(\"no\")\n",
    "    "
   ]
  },
  {
   "cell_type": "code",
   "execution_count": null,
   "id": "4f9b7c2c",
   "metadata": {},
   "outputs": [],
   "source": [
    "name=input(\"entre name\")\n",
    "if name ==\"renisha\":\n",
    "    print(\"yes\")\n",
    "else :\n",
    "    print(\"no\")"
   ]
  },
  {
   "cell_type": "code",
   "execution_count": null,
   "id": "40e739ba",
   "metadata": {},
   "outputs": [],
   "source": [
    "a=\"renisha\"\n",
    "if a.lower().strip()==\"renisha\":\n",
    "    print(\"yes\")\n",
    "else :\n",
    "    print(\"no\")"
   ]
  },
  {
   "cell_type": "code",
   "execution_count": null,
   "id": "d0ab1a51",
   "metadata": {},
   "outputs": [],
   "source": [
    "name=\"renisha\"\n",
    "mark=80\n",
    "if name == \"renisha\" and mark >50:\n",
    "    print(\"pass\")\n",
    "elif name == \"renisha\"and mark>75:\n",
    "    print(\"dist\")\n",
    "else:\n",
    "    print(\"fail\")"
   ]
  },
  {
   "cell_type": "code",
   "execution_count": null,
   "id": "21b31c46",
   "metadata": {},
   "outputs": [],
   "source": [
    "name=\"renisha\"\n",
    "mark=80\n",
    "if name == \"test\" and mark >50:\n",
    "    print(\"pass\")\n",
    "elif name == \"renisha\"and mark>75:\n",
    "    print(\"dist\")\n",
    "else:\n",
    "    print(\"fail\")"
   ]
  },
  {
   "cell_type": "code",
   "execution_count": null,
   "id": "32e63f8c",
   "metadata": {},
   "outputs": [],
   "source": [
    "name=\"renisha\"\n",
    "mark=80\n",
    "if name == \"test\" or mark >50:\n",
    "    print(\"pass\")\n",
    "elif name == \"renisha\"and mark>75:\n",
    "    print(\"dist\")\n",
    "else:\n",
    "    print(\"fail\")"
   ]
  },
  {
   "cell_type": "code",
   "execution_count": 1,
   "id": "f77264e7",
   "metadata": {},
   "outputs": [
    {
     "name": "stdout",
     "output_type": "stream",
     "text": [
      "yes\n"
     ]
    }
   ],
   "source": [
    "x=[1,2,3,4,5]\n",
    "if type(x)==list:\n",
    "    print(\"yes\")"
   ]
  },
  {
   "cell_type": "code",
   "execution_count": null,
   "id": "89d98880",
   "metadata": {},
   "outputs": [],
   "source": [
    "x=\"harishree\"\n",
    "if type(x)== string:\n",
    "    print(\"yes\")\n",
    "else :\n",
    "    print(\"no\")"
   ]
  },
  {
   "cell_type": "code",
   "execution_count": null,
   "id": "8a2d243a",
   "metadata": {},
   "outputs": [],
   "source": [
    "name=input(\"entre name\")\n",
    "if type(name)==string :\n",
    "    print(\"yes\")\n",
    "else :\n",
    "    print(\"no\")"
   ]
  },
  {
   "cell_type": "code",
   "execution_count": null,
   "id": "4a7225a4",
   "metadata": {},
   "outputs": [],
   "source": []
  },
  {
   "cell_type": "code",
   "execution_count": null,
   "id": "1466b1be",
   "metadata": {},
   "outputs": [],
   "source": []
  },
  {
   "cell_type": "code",
   "execution_count": null,
   "id": "94359329",
   "metadata": {},
   "outputs": [],
   "source": []
  },
  {
   "cell_type": "code",
   "execution_count": null,
   "id": "8d366bbf",
   "metadata": {},
   "outputs": [],
   "source": []
  },
  {
   "cell_type": "code",
   "execution_count": null,
   "id": "afefe499",
   "metadata": {},
   "outputs": [],
   "source": []
  },
  {
   "cell_type": "code",
   "execution_count": null,
   "id": "3cf69123",
   "metadata": {},
   "outputs": [],
   "source": []
  },
  {
   "cell_type": "code",
   "execution_count": null,
   "id": "8c146811",
   "metadata": {},
   "outputs": [],
   "source": []
  }
 ],
 "metadata": {
  "kernelspec": {
   "display_name": "Python 3 (ipykernel)",
   "language": "python",
   "name": "python3"
  },
  "language_info": {
   "codemirror_mode": {
    "name": "ipython",
    "version": 3
   },
   "file_extension": ".py",
   "mimetype": "text/x-python",
   "name": "python",
   "nbconvert_exporter": "python",
   "pygments_lexer": "ipython3",
   "version": "3.10.9"
  }
 },
 "nbformat": 4,
 "nbformat_minor": 5
}
