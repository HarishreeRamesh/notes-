{
 "cells": [
  {
   "cell_type": "code",
   "execution_count": null,
   "id": "551c130d",
   "metadata": {},
   "outputs": [],
   "source": [
    "#function are reuseable "
   ]
  },
  {
   "cell_type": "code",
   "execution_count": 4,
   "id": "9dfdf52c",
   "metadata": {},
   "outputs": [],
   "source": [
    "class car():\n",
    "    \n",
    "    def speed(self):\n",
    "        print(\"car speed\")\n",
    "        \n",
    "    def acc(self):\n",
    "        print(\"carr acc\")"
   ]
  },
  {
   "cell_type": "code",
   "execution_count": 5,
   "id": "5ced6e18",
   "metadata": {},
   "outputs": [],
   "source": [
    "class truck():\n",
    "    \n",
    "    \n",
    "    def speed(self):\n",
    "        print(\"truck speed\")\n",
    "    \n",
    "    \n",
    "    def acc(self):\n",
    "        print(\"truck acc\")"
   ]
  },
  {
   "cell_type": "code",
   "execution_count": 6,
   "id": "fd169bf5",
   "metadata": {},
   "outputs": [],
   "source": [
    "car_obj = car()"
   ]
  },
  {
   "cell_type": "code",
   "execution_count": 7,
   "id": "aec1411b",
   "metadata": {},
   "outputs": [
    {
     "name": "stdout",
     "output_type": "stream",
     "text": [
      "<class '__main__.car'>\n"
     ]
    }
   ],
   "source": [
    "print(car)"
   ]
  },
  {
   "cell_type": "code",
   "execution_count": 8,
   "id": "7e503563",
   "metadata": {},
   "outputs": [
    {
     "data": {
      "text/plain": [
       "['__class__',\n",
       " '__delattr__',\n",
       " '__dict__',\n",
       " '__dir__',\n",
       " '__doc__',\n",
       " '__eq__',\n",
       " '__format__',\n",
       " '__ge__',\n",
       " '__getattribute__',\n",
       " '__gt__',\n",
       " '__hash__',\n",
       " '__init__',\n",
       " '__init_subclass__',\n",
       " '__le__',\n",
       " '__lt__',\n",
       " '__module__',\n",
       " '__ne__',\n",
       " '__new__',\n",
       " '__reduce__',\n",
       " '__reduce_ex__',\n",
       " '__repr__',\n",
       " '__setattr__',\n",
       " '__sizeof__',\n",
       " '__str__',\n",
       " '__subclasshook__',\n",
       " '__weakref__',\n",
       " 'acc',\n",
       " 'speed']"
      ]
     },
     "execution_count": 8,
     "metadata": {},
     "output_type": "execute_result"
    }
   ],
   "source": [
    "dir(car_obj)"
   ]
  },
  {
   "cell_type": "code",
   "execution_count": 9,
   "id": "59b29ef1",
   "metadata": {},
   "outputs": [
    {
     "name": "stdout",
     "output_type": "stream",
     "text": [
      "car speed\n"
     ]
    }
   ],
   "source": [
    "car_obj.speed()"
   ]
  },
  {
   "cell_type": "code",
   "execution_count": 10,
   "id": "62df0ea1",
   "metadata": {},
   "outputs": [
    {
     "name": "stdout",
     "output_type": "stream",
     "text": [
      "truck speed\n"
     ]
    }
   ],
   "source": [
    "truck_obj = truck()\n",
    "truck_obj.speed()"
   ]
  },
  {
   "cell_type": "code",
   "execution_count": 11,
   "id": "82bc5844",
   "metadata": {},
   "outputs": [
    {
     "ename": "SyntaxError",
     "evalue": "'return' outside function (3900890824.py, line 2)",
     "output_type": "error",
     "traceback": [
      "\u001b[1;36m  Cell \u001b[1;32mIn[11], line 2\u001b[1;36m\u001b[0m\n\u001b[1;33m    return\u001b[0m\n\u001b[1;37m    ^\u001b[0m\n\u001b[1;31mSyntaxError\u001b[0m\u001b[1;31m:\u001b[0m 'return' outside function\n"
     ]
    }
   ],
   "source": [
    "class calcu():\n",
    "\n",
    "    return "
   ]
  },
  {
   "cell_type": "code",
   "execution_count": 16,
   "id": "ee446b16",
   "metadata": {},
   "outputs": [],
   "source": [
    "class hotel():\n",
    "    \n",
    "    def floor(self,a):\n",
    "        if a == 1:\n",
    "            print(\"veg\")\n",
    "        elif a == 2:\n",
    "            print(\"non veg\")\n",
    "            \n",
    "            \n",
    "    def dish(self,a):\n",
    "        if a == 1:\n",
    "            print(\"veg dish\")\n",
    "        elif a == 2:\n",
    "            print(\"non veg\")\n",
    "            \n",
    "       \n",
    "      "
   ]
  },
  {
   "cell_type": "code",
   "execution_count": 17,
   "id": "1bd71bda",
   "metadata": {},
   "outputs": [
    {
     "name": "stdout",
     "output_type": "stream",
     "text": [
      "veg\n",
      "veg dish\n"
     ]
    }
   ],
   "source": [
    "a = hotel()\n",
    "a.floor(1)\n",
    "a.dish(1)"
   ]
  },
  {
   "cell_type": "code",
   "execution_count": 18,
   "id": "68cbd1b3",
   "metadata": {},
   "outputs": [
    {
     "name": "stdout",
     "output_type": "stream",
     "text": [
      "veg\n",
      "non veg\n"
     ]
    }
   ],
   "source": [
    "a.floor(1)\n",
    "a.dish(2)"
   ]
  },
  {
   "cell_type": "code",
   "execution_count": 25,
   "id": "617f9b71",
   "metadata": {},
   "outputs": [],
   "source": [
    "class hotel():\n",
    "    def __init__(self,a):\n",
    "        self.a = a\n",
    "    def floor(self):\n",
    "        if self.a == 1:\n",
    "            print(\"veg\")\n",
    "        elif self.a == 2:\n",
    "            print(\"non veg\")\n",
    "    def dish(self):\n",
    "        if self.a == 1:\n",
    "            print(\"veg dish\")\n",
    "        elif self.a == 2:\n",
    "            print(\"non veg\")"
   ]
  },
  {
   "cell_type": "code",
   "execution_count": 26,
   "id": "403b9720",
   "metadata": {},
   "outputs": [],
   "source": [
    "a = hotel(1)\n",
    "#dir(a)"
   ]
  },
  {
   "cell_type": "code",
   "execution_count": 27,
   "id": "5975672e",
   "metadata": {},
   "outputs": [
    {
     "name": "stdout",
     "output_type": "stream",
     "text": [
      "veg\n",
      "veg dish\n"
     ]
    }
   ],
   "source": [
    "a.floor()\n",
    "a.dish()"
   ]
  },
  {
   "cell_type": "code",
   "execution_count": 28,
   "id": "1a48f260",
   "metadata": {},
   "outputs": [
    {
     "name": "stdout",
     "output_type": "stream",
     "text": [
      "non veg\n"
     ]
    }
   ],
   "source": [
    "b = hotel(2)\n",
    "b.floor()"
   ]
  },
  {
   "cell_type": "code",
   "execution_count": null,
   "id": "3a2bded1",
   "metadata": {},
   "outputs": [],
   "source": []
  },
  {
   "cell_type": "code",
   "execution_count": null,
   "id": "500ba19e",
   "metadata": {},
   "outputs": [],
   "source": []
  },
  {
   "cell_type": "code",
   "execution_count": null,
   "id": "579e531e",
   "metadata": {},
   "outputs": [],
   "source": []
  },
  {
   "cell_type": "code",
   "execution_count": null,
   "id": "11d81636",
   "metadata": {},
   "outputs": [],
   "source": []
  }
 ],
 "metadata": {
  "kernelspec": {
   "display_name": "Python 3 (ipykernel)",
   "language": "python",
   "name": "python3"
  },
  "language_info": {
   "codemirror_mode": {
    "name": "ipython",
    "version": 3
   },
   "file_extension": ".py",
   "mimetype": "text/x-python",
   "name": "python",
   "nbconvert_exporter": "python",
   "pygments_lexer": "ipython3",
   "version": "3.10.9"
  }
 },
 "nbformat": 4,
 "nbformat_minor": 5
}
