{
 "cells": [
  {
   "cell_type": "code",
   "execution_count": 4,
   "id": "3a696f72",
   "metadata": {},
   "outputs": [],
   "source": [
    "def test(a,b):\n",
    "    print(a+b)\n",
    " "
   ]
  },
  {
   "cell_type": "code",
   "execution_count": 5,
   "id": "3c68ec6f",
   "metadata": {},
   "outputs": [
    {
     "name": "stdout",
     "output_type": "stream",
     "text": [
      "9\n"
     ]
    }
   ],
   "source": [
    "a = test(5,4)"
   ]
  },
  {
   "cell_type": "code",
   "execution_count": 6,
   "id": "7de626d3",
   "metadata": {},
   "outputs": [
    {
     "name": "stdout",
     "output_type": "stream",
     "text": [
      "33\n"
     ]
    }
   ],
   "source": [
    "a = test(22,11)\n"
   ]
  },
  {
   "cell_type": "code",
   "execution_count": 8,
   "id": "ae7f1b7f",
   "metadata": {},
   "outputs": [
    {
     "name": "stdout",
     "output_type": "stream",
     "text": [
      "24\n"
     ]
    }
   ],
   "source": [
    "test(16,8)"
   ]
  },
  {
   "cell_type": "code",
   "execution_count": null,
   "id": "348f4417",
   "metadata": {},
   "outputs": [],
   "source": [
    "def test(a,b):\n",
    "    return(a+b)"
   ]
  },
  {
   "cell_type": "code",
   "execution_count": 9,
   "id": "2c06f850",
   "metadata": {},
   "outputs": [
    {
     "name": "stdout",
     "output_type": "stream",
     "text": [
      "8\n"
     ]
    }
   ],
   "source": [
    "a = test(5,3)"
   ]
  },
  {
   "cell_type": "code",
   "execution_count": 31,
   "id": "8c34b0e2",
   "metadata": {},
   "outputs": [
    {
     "ename": "SyntaxError",
     "evalue": "cannot assign to literal here. Maybe you meant '==' instead of '='? (3628733383.py, line 2)",
     "output_type": "error",
     "traceback": [
      "\u001b[1;36m  Cell \u001b[1;32mIn[31], line 2\u001b[1;36m\u001b[0m\n\u001b[1;33m    \"fruits\" = (\"apple\",\"apple\",\"mango\",\"mango\",\"mango\",\"berry\",\"berry\",\"berry\",\"berry\")\u001b[0m\n\u001b[1;37m    ^\u001b[0m\n\u001b[1;31mSyntaxError\u001b[0m\u001b[1;31m:\u001b[0m cannot assign to literal here. Maybe you meant '==' instead of '='?\n"
     ]
    }
   ],
   "source": [
    "ruits = (\"apple\",\"apple\",\"mango\",\"mango\",\"mango\",\"berry\",\"berry\",\"berry\",\"berry\")\n"
   ]
  },
  {
   "cell_type": "code",
   "execution_count": 13,
   "id": "90121528",
   "metadata": {},
   "outputs": [
    {
     "name": "stdout",
     "output_type": "stream",
     "text": [
      "2\n",
      "3\n",
      "4\n"
     ]
    }
   ],
   "source": [
    "\n",
    "fruits = (\"apple\",\"apple\",\"mango\",\"mango\",\"mango\",\"berry\",\"berry\",\"berry\",\"berry\")\n",
    "a = fruits.count(\"apple\")\n",
    "b = fruits.count(\"mango\")\n",
    "c = fruits.count(\"berry\")\n",
    "print(a)\n",
    "print(b)\n",
    "print(c)\n"
   ]
  },
  {
   "cell_type": "code",
   "execution_count": 32,
   "id": "3c10d115",
   "metadata": {},
   "outputs": [
    {
     "name": "stdout",
     "output_type": "stream",
     "text": [
      "apple\n",
      "banana\n",
      "cherry\n"
     ]
    }
   ],
   "source": [
    "fruits = [\"apple\", \"banana\", \"cherry\"]\n",
    "for x in fruits:\n",
    "  print(x)"
   ]
  },
  {
   "cell_type": "code",
   "execution_count": 33,
   "id": "87b2681a",
   "metadata": {},
   "outputs": [
    {
     "name": "stdout",
     "output_type": "stream",
     "text": [
      "apple\n",
      "apple\n",
      "mango\n",
      "mango\n",
      "mango\n",
      "berry\n",
      "berry\n",
      "berry\n",
      "berry\n"
     ]
    }
   ],
   "source": [
    "fruits = (\"apple\",\"apple\",\"mango\",\"mango\",\"mango\",\"berry\",\"berry\",\"berry\",\"berry\")\n",
    "for x in fruits:\n",
    "    print(x)\n"
   ]
  },
  {
   "cell_type": "code",
   "execution_count": 12,
   "id": "aeb3cc04",
   "metadata": {},
   "outputs": [],
   "source": [
    "fruits = (\"apple\",\"apple\",\"mango\",\"mango\",\"mango\",\"berry\",\"berry\",\"berry\",\"berry\")\n",
    "duplicateFrequencies = {}\n",
    "for i in set(fruits):\n",
    "    duplicateFrequencies[i] = fruits.count(i)\n"
   ]
  },
  {
   "cell_type": "code",
   "execution_count": 4,
   "id": "9681fe48",
   "metadata": {},
   "outputs": [],
   "source": [
    "yourList = [\"a\", \"b\", \"a\", \"c\", \"c\", \"a\", \"c\"]\n",
    "\n",
    "duplicateFrequencies = {}\n",
    "for i in set(yourList):\n",
    "    duplicateFrequencies[i] = yourList.count(i)\n"
   ]
  },
  {
   "cell_type": "code",
   "execution_count": 11,
   "id": "b64ad4f6",
   "metadata": {},
   "outputs": [
    {
     "ename": "IndentationError",
     "evalue": "unindent does not match any outer indentation level (<tokenize>, line 5)",
     "output_type": "error",
     "traceback": [
      "\u001b[1;36m  File \u001b[1;32m<tokenize>:5\u001b[1;36m\u001b[0m\n\u001b[1;33m    else:\u001b[0m\n\u001b[1;37m    ^\u001b[0m\n\u001b[1;31mIndentationError\u001b[0m\u001b[1;31m:\u001b[0m unindent does not match any outer indentation level\n"
     ]
    }
   ],
   "source": [
    "MyList = [\"a\", \"b\", \"a\", \"c\", \"c\", \"a\", \"c\"]\n",
    "count = {}\n",
    "for i in MyList:\n",
    "     count[i] = 1\n",
    "    else:\n",
    "        count[i] +=1\n",
    "count"
   ]
  },
  {
   "cell_type": "code",
   "execution_count": null,
   "id": "db3a76f7",
   "metadata": {},
   "outputs": [],
   "source": []
  },
  {
   "cell_type": "code",
   "execution_count": null,
   "id": "99ad6e72",
   "metadata": {},
   "outputs": [],
   "source": []
  },
  {
   "cell_type": "code",
   "execution_count": null,
   "id": "bcf64099",
   "metadata": {},
   "outputs": [],
   "source": []
  },
  {
   "cell_type": "code",
   "execution_count": null,
   "id": "d09a05c6",
   "metadata": {},
   "outputs": [],
   "source": []
  },
  {
   "cell_type": "code",
   "execution_count": null,
   "id": "c2641328",
   "metadata": {},
   "outputs": [],
   "source": []
  },
  {
   "cell_type": "code",
   "execution_count": null,
   "id": "57d2f383",
   "metadata": {},
   "outputs": [],
   "source": []
  },
  {
   "cell_type": "code",
   "execution_count": null,
   "id": "dd52e313",
   "metadata": {},
   "outputs": [],
   "source": []
  },
  {
   "cell_type": "code",
   "execution_count": null,
   "id": "5d73a0f2",
   "metadata": {},
   "outputs": [],
   "source": []
  },
  {
   "cell_type": "code",
   "execution_count": null,
   "id": "7be17803",
   "metadata": {},
   "outputs": [],
   "source": []
  }
 ],
 "metadata": {
  "kernelspec": {
   "display_name": "Python 3 (ipykernel)",
   "language": "python",
   "name": "python3"
  },
  "language_info": {
   "codemirror_mode": {
    "name": "ipython",
    "version": 3
   },
   "file_extension": ".py",
   "mimetype": "text/x-python",
   "name": "python",
   "nbconvert_exporter": "python",
   "pygments_lexer": "ipython3",
   "version": "3.10.9"
  }
 },
 "nbformat": 4,
 "nbformat_minor": 5
}
